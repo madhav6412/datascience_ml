{
 "cells": [
  {
   "cell_type": "markdown",
   "metadata": {},
   "source": [
    "Lists- Data Structure:\n",
    "\n",
    "A data structure is a collection of data elements (such as numbers or characters—or even other data structures) that is structured in some way, for example, by numbering the elements. The most basic data structure in Python is the \"sequence\".\n",
    "\n",
    "-> List is one of the Sequence Data structure\n",
    "\n",
    "-> Lists are collection of items (Strings, integers or even other lists)\n",
    "\n",
    "-> Lists are enclosed in [ ]\n",
    "\n",
    "-> Each item in the list has an assigned index value.\n",
    "\n",
    "-> Each item in a list is separated by a comma\n",
    "\n",
    "-> Lists are mutable, which means they can be changed."
   ]
  },
  {
   "cell_type": "code",
   "execution_count": 1,
   "metadata": {},
   "outputs": [
    {
     "name": "stdout",
     "output_type": "stream",
     "text": [
      "[1, 2, 3, 4, 'one', 'seventy', 'two', 'three']\n"
     ]
    }
   ],
   "source": [
    "#insert the list\n",
    "list = [1,2,3,4,'one','two','three']\n",
    "list.insert(5,'seventy')\n",
    "print(list)"
   ]
  },
  {
   "cell_type": "code",
   "execution_count": 2,
   "metadata": {},
   "outputs": [
    {
     "name": "stdout",
     "output_type": "stream",
     "text": [
      "[1, 2, 3, 4, 'one', 'seventy', 'two', 'three', ['five', 'six']]\n"
     ]
    }
   ],
   "source": [
    "list2 =['five','six']\n",
    "list.append(list2)\n",
    "print(list)"
   ]
  },
  {
   "cell_type": "code",
   "execution_count": 3,
   "metadata": {},
   "outputs": [
    {
     "name": "stdout",
     "output_type": "stream",
     "text": [
      "[1, 2, 3, 4, 'seventy', 'two', 'three', ['five', 'six']]\n"
     ]
    }
   ],
   "source": [
    "#we can delete some items in the list also\n",
    "\n",
    "del list[4]\n",
    "print(list\n",
    "     \n",
    "     )"
   ]
  },
  {
   "cell_type": "code",
   "execution_count": 5,
   "metadata": {},
   "outputs": [
    {
     "name": "stdout",
     "output_type": "stream",
     "text": [
      "three\n",
      "[1, 2, 3, 4, 'seventy', ['five', 'six']]\n"
     ]
    }
   ],
   "source": [
    "#we also use pop method to delete the items\n",
    "a = list.pop(5)\n",
    "print(a)\n",
    "print(list)"
   ]
  },
  {
   "cell_type": "code",
   "execution_count": 13,
   "metadata": {},
   "outputs": [
    {
     "name": "stdout",
     "output_type": "stream",
     "text": [
      "AI\n"
     ]
    }
   ],
   "source": [
    "#list related keywords\n",
    "list = ['one','two','three','four']\n",
    "\n",
    "if 'two' in list:\n",
    "    print('AI')\n",
    "else:\n",
    "    print('six is not in the list')\n",
    "    "
   ]
  },
  {
   "cell_type": "code",
   "execution_count": 16,
   "metadata": {},
   "outputs": [
    {
     "name": "stdout",
     "output_type": "stream",
     "text": [
      "['four', 'three', 'two', 'one']\n"
     ]
    }
   ],
   "source": [
    "list.reverse()\n",
    "print(list)"
   ]
  },
  {
   "cell_type": "code",
   "execution_count": 17,
   "metadata": {},
   "outputs": [
    {
     "name": "stdout",
     "output_type": "stream",
     "text": [
      "sorted list is  [1, 2, 2, 3, 3, 3, 4, 4, 5, 6, 6, 6, 7, 8, 45, 89]\n"
     ]
    }
   ],
   "source": [
    "#sorting teh numbers\n",
    "\n",
    "num =[1,2,3,4,5,6,7,8,45,3,6,4,2,3,6,89]\n",
    "sorted_list= sorted(num)\n",
    "print('sorted list is ',sorted_list)\n"
   ]
  },
  {
   "cell_type": "code",
   "execution_count": 21,
   "metadata": {},
   "outputs": [
    {
     "name": "stdout",
     "output_type": "stream",
     "text": [
      "[89, 45, 8, 7, 6, 6, 6, 5, 4, 4, 3, 3, 3, 2, 2, 1]\n",
      "original list [1, 2, 3, 4, 5, 6, 7, 8, 45, 3, 6, 4, 2, 3, 6, 89]\n"
     ]
    }
   ],
   "source": [
    "# reverse sorted list\n",
    "sorted_list.reverse()\n",
    "print(sorted_list)\n",
    "print('original list',num)"
   ]
  },
  {
   "cell_type": "code",
   "execution_count": 22,
   "metadata": {},
   "outputs": [
    {
     "ename": "TypeError",
     "evalue": "'<' not supported between instances of 'str' and 'int'",
     "output_type": "error",
     "traceback": [
      "\u001b[0;31m---------------------------------------------------------------------------\u001b[0m",
      "\u001b[0;31mTypeError\u001b[0m                                 Traceback (most recent call last)",
      "\u001b[0;32m<ipython-input-22-239ca0d5e775>\u001b[0m in \u001b[0;36m<module>\u001b[0;34m\u001b[0m\n\u001b[1;32m      1\u001b[0m \u001b[0;31m#we can not sort list of different data types\u001b[0m\u001b[0;34m\u001b[0m\u001b[0;34m\u001b[0m\u001b[0;34m\u001b[0m\u001b[0m\n\u001b[1;32m      2\u001b[0m \u001b[0mlst\u001b[0m \u001b[0;34m=\u001b[0m \u001b[0;34m[\u001b[0m\u001b[0;36m1\u001b[0m\u001b[0;34m,\u001b[0m \u001b[0;36m20\u001b[0m\u001b[0;34m,\u001b[0m \u001b[0;34m'b'\u001b[0m\u001b[0;34m,\u001b[0m \u001b[0;36m5\u001b[0m\u001b[0;34m,\u001b[0m \u001b[0;34m'a'\u001b[0m\u001b[0;34m]\u001b[0m\u001b[0;34m\u001b[0m\u001b[0;34m\u001b[0m\u001b[0m\n\u001b[0;32m----> 3\u001b[0;31m \u001b[0mprint\u001b[0m\u001b[0;34m(\u001b[0m\u001b[0mlst\u001b[0m\u001b[0;34m.\u001b[0m\u001b[0msort\u001b[0m\u001b[0;34m(\u001b[0m\u001b[0;34m)\u001b[0m\u001b[0;34m)\u001b[0m \u001b[0;31m# sort list with element of different datatypes.\u001b[0m\u001b[0;34m\u001b[0m\u001b[0;34m\u001b[0m\u001b[0m\n\u001b[0m",
      "\u001b[0;31mTypeError\u001b[0m: '<' not supported between instances of 'str' and 'int'"
     ]
    }
   ],
   "source": [
    "#we can not sort list of different data types\n",
    "lst = [1, 20, 'b', 5, 'a']\n",
    "print(lst.sort()) # sort list with element of different datatypes."
   ]
  },
  {
   "cell_type": "code",
   "execution_count": 25,
   "metadata": {},
   "outputs": [
    {
     "name": "stdout",
     "output_type": "stream",
     "text": [
      "['a', 'c', 'v', 'd', 'f', 'e', 'r', 'er', 't', 'r', 'c', '', 'c', 'v', 'f', 'd', 'ws', 'w', 'e', 'we']\n"
     ]
    }
   ],
   "source": [
    "#we also split string the list\n",
    "me = \"a,c,v,d,f,e,r,er,t,r,c,,c,v,f,d,ws,w,e,we\"\n",
    "b= me.split(',')\n",
    "print(b)"
   ]
  },
  {
   "cell_type": "code",
   "execution_count": 26,
   "metadata": {},
   "outputs": [
    {
     "name": "stdout",
     "output_type": "stream",
     "text": [
      "['My', 'name', 'is', 'Madhav', 'Gupta']\n"
     ]
    }
   ],
   "source": [
    "me = \"My name is Madhav Gupta\"\n",
    "b =me.split() #default for the no character\n",
    "print(b)"
   ]
  },
  {
   "cell_type": "code",
   "execution_count": 30,
   "metadata": {},
   "outputs": [
    {
     "name": "stdout",
     "output_type": "stream",
     "text": [
      "3\n",
      "12\n",
      "[1, 2, 3, 4, 5, 6, 7, 8, 9, 12]\n",
      "[1, 2, 3, 4, 5]\n"
     ]
    }
   ],
   "source": [
    "#Indexing and the slicing\n",
    "a = [1,2,3,4,5,6,7,8,9,12]\n",
    "print(a[2])\n",
    "print(a[-1]);print(a[:]);print(a[0:5]);\n"
   ]
  },
  {
   "cell_type": "code",
   "execution_count": 35,
   "metadata": {},
   "outputs": [
    {
     "name": "stdout",
     "output_type": "stream",
     "text": [
      "[1, 2, 3, 4, 5, 6, 7, 8, 9, 12]\n",
      "[1, 3, 5, 7, 9]\n",
      "[3, 5, 7, 9]\n"
     ]
    }
   ],
   "source": [
    "print(a)\n",
    "print(a[::2]) # diffiicult to understand isme zero se start karna hai with a difference of the two\n",
    "print(a[2::2]) #isme difference fo the two starting fromn the 2"
   ]
  },
  {
   "cell_type": "code",
   "execution_count": 36,
   "metadata": {},
   "outputs": [
    {
     "name": "stdout",
     "output_type": "stream",
     "text": [
      "1\n"
     ]
    }
   ],
   "source": [
    "print(a.count(3))"
   ]
  },
  {
   "cell_type": "code",
   "execution_count": 41,
   "metadata": {},
   "outputs": [
    {
     "name": "stdout",
     "output_type": "stream",
     "text": [
      "[8000, 9261, 10648, 12167, 13824, 15625, 17576, 19683, 21952, 24389]\n"
     ]
    }
   ],
   "source": [
    "squares = [i**3 for i in range(20,30)] # got cubes fromnthe range of 20 to 30 \n",
    "#that is an example tof the list comperhensipn i.e it provides concise way to create lsits\n",
    "print(squares)"
   ]
  },
  {
   "cell_type": "code",
   "execution_count": 43,
   "metadata": {},
   "outputs": [
    {
     "name": "stdout",
     "output_type": "stream",
     "text": [
      "[40, 24, 8, 114, 162, 4]\n"
     ]
    }
   ],
   "source": [
    "#create list with the calues doubles\n",
    "a =[20,12,4,57,81,2]\n",
    "doubles = [i*2 for i in a] # agar koi condition rakhni hai like 0 se bada number like need to apply filter just add if then condition\n",
    "print(doubles)"
   ]
  },
  {
   "cell_type": "code",
   "execution_count": 47,
   "metadata": {},
   "outputs": [
    {
     "name": "stdout",
     "output_type": "stream",
     "text": [
      "[20, 12, 4, 57, 81, 2]\n"
     ]
    }
   ],
   "source": [
    "#Filter the list to exclude the negative numbers\n",
    "filter_list =[i for i in a if i >= 0]\n",
    "print(filter_list)"
   ]
  },
  {
   "cell_type": "code",
   "execution_count": 50,
   "metadata": {},
   "outputs": [
    {
     "name": "stdout",
     "output_type": "stream",
     "text": [
      "[(0, 0), (1, 1), (2, 4), (3, 9), (4, 16), (5, 25), (6, 36), (7, 49), (8, 64), (9, 81)]\n"
     ]
    }
   ],
   "source": [
    "#create the list of tuples like(number,square_of_number)\n",
    "new_list =[(i,i**2) for i in range(10)]\n",
    "print(new_list)"
   ]
  },
  {
   "cell_type": "code",
   "execution_count": null,
   "metadata": {},
   "outputs": [],
   "source": []
  }
 ],
 "metadata": {
  "kernelspec": {
   "display_name": "Python",
   "language": "python",
   "name": "conda-env-python-py"
  },
  "language_info": {
   "codemirror_mode": {
    "name": "ipython",
    "version": 3
   },
   "file_extension": ".py",
   "mimetype": "text/x-python",
   "name": "python",
   "nbconvert_exporter": "python",
   "pygments_lexer": "ipython3",
   "version": "3.6.12"
  }
 },
 "nbformat": 4,
 "nbformat_minor": 4
}
